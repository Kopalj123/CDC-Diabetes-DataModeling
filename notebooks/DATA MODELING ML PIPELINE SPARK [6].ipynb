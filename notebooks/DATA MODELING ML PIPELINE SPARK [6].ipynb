{
 "cells": [
  {
   "cell_type": "markdown",
   "metadata": {},
   "source": [
    "# DATA MODELING ML PIPELINE SPARK"
   ]
  },
  {
   "cell_type": "markdown",
   "metadata": {},
   "source": [
    "#### Import Libraries"
   ]
  },
  {
   "cell_type": "code",
   "execution_count": 167,
   "metadata": {},
   "outputs": [],
   "source": [
    "from pyspark.sql import *\n",
    "from pyspark.sql.types import *\n",
    "from pyspark.sql.functions import *\n",
    "from pyspark.ml.classification import LogisticRegression\n",
    "from pyspark.ml.feature import VectorAssembler, StringIndexer, OneHotEncoder, StandardScaler, MinMaxScaler, PCA\n",
    "from pyspark.ml import Pipeline\n",
    "from pyspark.ml.evaluation import BinaryClassificationEvaluator, MulticlassClassificationEvaluator\n",
    "from pyspark.ml.tuning import CrossValidator, ParamGridBuilder"
   ]
  },
  {
   "cell_type": "markdown",
   "metadata": {},
   "source": [
    "#### Create Spark Session"
   ]
  },
  {
   "cell_type": "code",
   "execution_count": 16,
   "metadata": {},
   "outputs": [],
   "source": [
    "spark = SparkSession \\\n",
    "    .builder \\\n",
    "    .master(\"local\") \\\n",
    "    .appName(\"Classification in Spark\") \\\n",
    "    .config(\"spark.some.config.option\", \"some-value\") \\\n",
    "    .getOrCreate()"
   ]
  },
  {
   "cell_type": "markdown",
   "metadata": {},
   "source": [
    "#### Define Schema"
   ]
  },
  {
   "cell_type": "code",
   "execution_count": 17,
   "metadata": {},
   "outputs": [],
   "source": [
    "diabetesSchema = StructType([\n",
    "    StructField(\"Index\", IntegerType(), False),\n",
    "    StructField(\"EXERCISE\", DoubleType(), False),\n",
    "    StructField(\"HEARTATTACK\", DoubleType(), False),\n",
    "    StructField(\"CORONARYHEARTDISEASE\", DoubleType(), False),\n",
    "    StructField(\"STROKE\", DoubleType(), False),\n",
    "    StructField(\"ASTHMA\", DoubleType(), False),\n",
    "    StructField(\"SKINCANCER\", DoubleType(), False),\n",
    "    StructField(\"OTHERCANCER\", DoubleType(), False),\n",
    "    StructField(\"CHRONICBRONCHITIS\", DoubleType(), False),\n",
    "    StructField(\"ARTHRITIS\", DoubleType(), False),\n",
    "    StructField(\"DEPRESSIVEDISORDER\", DoubleType(), False),\n",
    "    StructField(\"KIDNEYDISEASE\", DoubleType(), False),\n",
    "    StructField(\"DIABETES\", DoubleType(), False),\n",
    "    StructField(\"SLEEPTIME_GROUP\", StringType(), False),\n",
    "    StructField(\"SEX_GROUP\", StringType(), False),\n",
    "    StructField(\"WEIGHT_KILOGRAM\", DoubleType(), False),\n",
    "    StructField(\"HEIGHT_METER\", DoubleType(), False),\n",
    "    StructField(\"BMI_GROUP\", StringType(), False),\n",
    "    StructField(\"RACE_GROUP\", StringType(), False),\n",
    "    StructField(\"AGE_GROUP\", StringType(), False),\n",
    "])"
   ]
  },
  {
   "cell_type": "markdown",
   "metadata": {},
   "source": [
    "#### Read & Store Data"
   ]
  },
  {
   "cell_type": "code",
   "execution_count": 18,
   "metadata": {},
   "outputs": [
    {
     "name": "stdout",
     "output_type": "stream",
     "text": [
      "+---------------+------------+---------------+---------+------------+----------+----------+--------+\n",
      "|WEIGHT_KILOGRAM|HEIGHT_METER|SLEEPTIME_GROUP|SEX_GROUP|   BMI_GROUP|RACE_GROUP| AGE_GROUP|DIABETES|\n",
      "+---------------+------------+---------------+---------+------------+----------+----------+--------+\n",
      "|         58.967|       1.626|    NormalSleep|   Female|NormalWeight|     White|   Elderly|     0.0|\n",
      "|         90.718|       1.651|      LessSleep|   Female|       Obese|     Black|YoungAdult|     0.0|\n",
      "|          64.41|       1.473|    NormalSleep|   Female|  OverWeight|     White|   Elderly|     1.0|\n",
      "|         86.182|       1.778|      LessSleep|     Male|  OverWeight|     White|   Elderly|     0.0|\n",
      "|         78.018|       1.575|      LessSleep|   Female|       Obese|     White|   Elderly|     0.0|\n",
      "+---------------+------------+---------------+---------+------------+----------+----------+--------+\n",
      "only showing top 5 rows\n",
      "\n"
     ]
    }
   ],
   "source": [
    "df = spark.read.csv('DiabetesCleaned_2018.csv', schema=diabetesSchema, header=True)\n",
    "df.select('WEIGHT_KILOGRAM', 'HEIGHT_METER', 'SLEEPTIME_GROUP', 'SEX_GROUP', 'BMI_GROUP', 'RACE_GROUP', 'AGE_GROUP', 'DIABETES').show(5)"
   ]
  },
  {
   "cell_type": "code",
   "execution_count": null,
   "metadata": {},
   "outputs": [],
   "source": [
    "df.head(5)"
   ]
  },
  {
   "cell_type": "code",
   "execution_count": null,
   "metadata": {},
   "outputs": [],
   "source": [
    "df.toPandas().head(5)"
   ]
  },
  {
   "cell_type": "code",
   "execution_count": 19,
   "metadata": {},
   "outputs": [
    {
     "data": {
      "text/plain": [
       "[('Index', 'int'),\n",
       " ('EXERCISE', 'double'),\n",
       " ('HEARTATTACK', 'double'),\n",
       " ('CORONARYHEARTDISEASE', 'double'),\n",
       " ('STROKE', 'double'),\n",
       " ('ASTHMA', 'double'),\n",
       " ('SKINCANCER', 'double'),\n",
       " ('OTHERCANCER', 'double'),\n",
       " ('CHRONICBRONCHITIS', 'double'),\n",
       " ('ARTHRITIS', 'double'),\n",
       " ('DEPRESSIVEDISORDER', 'double'),\n",
       " ('KIDNEYDISEASE', 'double'),\n",
       " ('DIABETES', 'double'),\n",
       " ('SLEEPTIME_GROUP', 'string'),\n",
       " ('SEX_GROUP', 'string'),\n",
       " ('WEIGHT_KILOGRAM', 'double'),\n",
       " ('HEIGHT_METER', 'double'),\n",
       " ('BMI_GROUP', 'string'),\n",
       " ('RACE_GROUP', 'string'),\n",
       " ('AGE_GROUP', 'string')]"
      ]
     },
     "execution_count": 19,
     "metadata": {},
     "output_type": "execute_result"
    }
   ],
   "source": [
    "df.dtypes"
   ]
  },
  {
   "cell_type": "markdown",
   "metadata": {},
   "source": [
    "#### Balance Data"
   ]
  },
  {
   "cell_type": "code",
   "execution_count": 48,
   "metadata": {},
   "outputs": [],
   "source": [
    "y_collect = df.select(\"DIABETES\").groupBy(\"DIABETES\").count().collect()\n",
    "num_1 = y_collect[0]['count']\n",
    "num_0 = y_collect[1]['count']\n",
    "\n",
    "ratio_1 = num_1/(num_1+num_0)\n",
    "ratio_0 = num_0/(num_1+num_0)\n",
    "\n",
    "def balanced_weight(labels):\n",
    "    return when(labels == 1, ratio_1).otherwise(ratio_0)\n",
    "\n",
    "df = df.withColumn('weights', balanced_weight(col('DIABETES')))"
   ]
  },
  {
   "cell_type": "markdown",
   "metadata": {},
   "source": [
    "#### Split Data (Train & Test)"
   ]
  },
  {
   "cell_type": "code",
   "execution_count": 49,
   "metadata": {},
   "outputs": [
    {
     "name": "stdout",
     "output_type": "stream",
     "text": [
      "Training data rows: 311722\n",
      "Testing data rows: 77846\n"
     ]
    }
   ],
   "source": [
    "dividedData  = df.randomSplit([0.80, 0.20]) \n",
    "trainingData = dividedData[0] # index 0 = data training\n",
    "testingData  = dividedData[1] # index 1 = data testing\n",
    "train_rows   = trainingData.count()\n",
    "test_rows    = testingData.count()\n",
    "\n",
    "print(\"Training data rows:\", train_rows)\n",
    "print(\"Testing data rows:\", test_rows)"
   ]
  },
  {
   "cell_type": "markdown",
   "metadata": {},
   "source": [
    "#### Transform Data"
   ]
  },
  {
   "cell_type": "code",
   "execution_count": 139,
   "metadata": {},
   "outputs": [],
   "source": [
    "string_indexer_1 = StringIndexer(inputCol= 'BMI_GROUP', outputCol= 'BMI_GROUP_INDEX')\n",
    "string_indexer_2 = StringIndexer(inputCol= 'RACE_GROUP', outputCol= 'RACE_GROUP_INDEX')\n",
    "string_indexer_3 = StringIndexer(inputCol= 'AGE_GROUP', outputCol= 'AGE_GROUP_INDEX')\n",
    "string_indexer_4 = StringIndexer(inputCol= 'SLEEPTIME_GROUP', outputCol= 'SLEEPTIME_GROUP_INDEX')\n",
    "string_indexer_5 = StringIndexer(inputCol= 'SEX_GROUP', outputCol= 'SEX_GROUP_INDEX')\n",
    "onehot_encoder   = OneHotEncoder(inputCols=['BMI_GROUP_INDEX', 'RACE_GROUP_INDEX', 'AGE_GROUP_INDEX', 'SLEEPTIME_GROUP_INDEX', 'SEX_GROUP_INDEX'], \n",
    "                        outputCols=['BMI_GROUP_INDEX_OHE', 'RACE_GROUP_INDEX_OHE', 'AGE_GROUP_INDEX_OHE', 'SLEEPTIME_GROUP_INDEX_OHE', 'SEX_GROUP_INDEX_OHE'])\n",
    "vector_assembler = VectorAssembler(inputCols = ['EXERCISE', 'HEARTATTACK', 'CORONARYHEARTDISEASE', 'STROKE', 'ASTHMA', 'SKINCANCER', 'OTHERCANCER', \n",
    "                                       'CHRONICBRONCHITIS', 'ARTHRITIS', 'DEPRESSIVEDISORDER', 'KIDNEYDISEASE', 'SLEEPTIME_GROUP_INDEX_OHE', \n",
    "                                       'SEX_GROUP_INDEX_OHE', 'WEIGHT_KILOGRAM', 'HEIGHT_METER', 'BMI_GROUP_INDEX_OHE', 'RACE_GROUP_INDEX_OHE', \n",
    "                                       'AGE_GROUP_INDEX_OHE'], outputCol=\"features\")\n",
    "standard_scaler  = StandardScaler(inputCol = \"features\", outputCol = \"scaled_features\")\n",
    "minmax_scaler    = MinMaxScaler(inputCol = \"features\", outputCol = \"scaled_features\")\n",
    "pca              = PCA(k=3, inputCol = \"scaled_features\", outputCol = \"reduced_features\")"
   ]
  },
  {
   "cell_type": "markdown",
   "metadata": {},
   "source": [
    "#### Pipeline Creation"
   ]
  },
  {
   "cell_type": "code",
   "execution_count": 149,
   "metadata": {},
   "outputs": [],
   "source": [
    "from pyspark.ml.classification import LogisticRegression\n",
    "lr_classifier = LogisticRegression(labelCol='DIABETES', featuresCol='reduced_features', weightCol='weights')\n",
    "pipeline_lr = Pipeline(stages=[string_indexer_1, string_indexer_2, string_indexer_3, string_indexer_4, \n",
    "                               string_indexer_5, onehot_encoder, vector_assembler, standard_scaler, pca, lr_classifier])"
   ]
  },
  {
   "cell_type": "code",
   "execution_count": 150,
   "metadata": {},
   "outputs": [],
   "source": [
    "from pyspark.ml.classification import LinearSVC\n",
    "svc_classifier = LinearSVC(labelCol='DIABETES', featuresCol='reduced_features', weightCol='weights')\n",
    "pipeline_svc = Pipeline(stages=[string_indexer_1, string_indexer_2, string_indexer_3, string_indexer_4,\n",
    "                               string_indexer_5, onehot_encoder, vector_assembler, standard_scaler, pca, svc_classifier])"
   ]
  },
  {
   "cell_type": "code",
   "execution_count": 158,
   "metadata": {},
   "outputs": [],
   "source": [
    "from pyspark.ml.classification import NaiveBayes\n",
    "nb_classifier = NaiveBayes(labelCol='DIABETES', featuresCol='scaled_features', weightCol='weights')\n",
    "pipeline_nb = Pipeline(stages=[string_indexer_1, string_indexer_2, string_indexer_3, string_indexer_4,\n",
    "                               string_indexer_5, onehot_encoder, vector_assembler, minmax_scaler, nb_classifier])"
   ]
  },
  {
   "cell_type": "code",
   "execution_count": 152,
   "metadata": {},
   "outputs": [],
   "source": [
    "from pyspark.ml.classification import DecisionTreeClassifier\n",
    "dt_classifier = DecisionTreeClassifier(labelCol='DIABETES', featuresCol='reduced_features', weightCol='weights')\n",
    "pipeline_dt = Pipeline(stages=[string_indexer_1, string_indexer_2, string_indexer_3, string_indexer_4,\n",
    "                               string_indexer_5, onehot_encoder, vector_assembler, standard_scaler, pca, dt_classifier])"
   ]
  },
  {
   "cell_type": "code",
   "execution_count": 153,
   "metadata": {},
   "outputs": [],
   "source": [
    "from pyspark.ml.classification import RandomForestClassifier\n",
    "rf_classifier = RandomForestClassifier(labelCol='DIABETES', featuresCol='reduced_features', weightCol='weights')\n",
    "pipeline_rf = Pipeline(stages=[string_indexer_1, string_indexer_2, string_indexer_3, string_indexer_4,\n",
    "                               string_indexer_5, onehot_encoder, vector_assembler, standard_scaler, pca, rf_classifier])"
   ]
  },
  {
   "cell_type": "code",
   "execution_count": 154,
   "metadata": {},
   "outputs": [],
   "source": [
    "from pyspark.ml.classification import GBTClassifier\n",
    "gbt_classifier = GBTClassifier(labelCol='DIABETES', featuresCol='reduced_features', weightCol='weights')\n",
    "pipeline_gbt = Pipeline(stages=[string_indexer_1, string_indexer_2, string_indexer_3, string_indexer_4,\n",
    "                               string_indexer_5, onehot_encoder, vector_assembler, standard_scaler, pca, gbt_classifier])"
   ]
  },
  {
   "cell_type": "markdown",
   "metadata": {},
   "source": [
    "#### Build Pipeline on Training Data & Predict Pipeline on Testing Data"
   ]
  },
  {
   "cell_type": "code",
   "execution_count": 159,
   "metadata": {},
   "outputs": [],
   "source": [
    "pipelines = [pipeline_lr, pipeline_svc, pipeline_nb, pipeline_dt, pipeline_rf, pipeline_gbt]"
   ]
  },
  {
   "cell_type": "code",
   "execution_count": 160,
   "metadata": {},
   "outputs": [],
   "source": [
    "pipe_dict = {0: 'Logistic Regression', 1: 'Support Vector Machine', 2: 'Naive Bayes', \n",
    "             3: 'Decision Tree', 4: 'Random Forest', 5: 'Gradient Boosting'}"
   ]
  },
  {
   "cell_type": "code",
   "execution_count": 164,
   "metadata": {},
   "outputs": [
    {
     "name": "stdout",
     "output_type": "stream",
     "text": [
      "Logistic Regression Test Accuracy: 0.706\n",
      "Support Vector Machine Test Accuracy: 0.713\n",
      "Naive Bayes Test Accuracy: 0.719\n",
      "Decision Tree Test Accuracy: 0.659\n",
      "Random Forest Test Accuracy: 0.684\n",
      "Gradient Boosting Test Accuracy: 0.680\n",
      "Classifier with best accuracy: Naive Bayes\n"
     ]
    }
   ],
   "source": [
    "best_accuracy   = 0\n",
    "best_classifier = 0\n",
    "best_pipeline   = \"\"\n",
    "\n",
    "for i,pipe in enumerate(pipelines):\n",
    "    predictions = pipe.fit(trainingData).transform(testingData)\n",
    "    multi_evaluator = MulticlassClassificationEvaluator(labelCol = 'DIABETES', metricName = 'accuracy')\n",
    "    print(\"{0:s} Test Accuracy: {1:.3f}\".format(pipe_dict[i], multi_evaluator.evaluate(predictions)))\n",
    "    if multi_evaluator.evaluate(predictions) > best_accuracy:\n",
    "        best_accuracy = multi_evaluator.evaluate(predictions)\n",
    "        best_pipeline = pipe\n",
    "        best_classifier = i\n",
    "print('Classifier with best accuracy: {}'.format(pipe_dict[best_classifier]))"
   ]
  },
  {
   "cell_type": "markdown",
   "metadata": {},
   "source": [
    "#### Hyperparameter Tuning"
   ]
  },
  {
   "cell_type": "code",
   "execution_count": 172,
   "metadata": {},
   "outputs": [],
   "source": [
    "param_grid_lr = ParamGridBuilder() \\\n",
    "    .addGrid(lr_classifier.maxIter, [100, 200, 500, 1000]) \\\n",
    "    .build()\n",
    "\n",
    "crossval_lr = CrossValidator(estimator=pipeline_lr,\n",
    "                          estimatorParamMaps=param_grid_lr,\n",
    "                          evaluator=MulticlassClassificationEvaluator(labelCol='DIABETES', metricName='accuracy'),\n",
    "                          numFolds=3) "
   ]
  },
  {
   "cell_type": "code",
   "execution_count": 176,
   "metadata": {},
   "outputs": [],
   "source": [
    "param_grid_svc = ParamGridBuilder() \\\n",
    "    .addGrid(svc_classifier.maxIter, [100, 200, 500, 1000]) \\\n",
    "    .build()\n",
    "\n",
    "crossval_svc = CrossValidator(estimator=pipeline_svc,\n",
    "                          estimatorParamMaps=param_grid_svc,\n",
    "                          evaluator=MulticlassClassificationEvaluator(labelCol='DIABETES', metricName='accuracy'),\n",
    "                          numFolds=3) "
   ]
  },
  {
   "cell_type": "code",
   "execution_count": 177,
   "metadata": {},
   "outputs": [],
   "source": [
    "param_grid_dt = ParamGridBuilder() \\\n",
    "    .addGrid(dt_classifier.impurity, ['gini', 'entropy']) \\\n",
    "    .addGrid(dt_classifier.maxDepth, [2, 3, 5, 9]) \\\n",
    "    .build()\n",
    "\n",
    "crossval_dt = CrossValidator(estimator=pipeline_dt,\n",
    "                          estimatorParamMaps=param_grid_dt,\n",
    "                          evaluator=MulticlassClassificationEvaluator(labelCol='DIABETES', metricName='accuracy'),\n",
    "                          numFolds=3) "
   ]
  },
  {
   "cell_type": "code",
   "execution_count": 197,
   "metadata": {},
   "outputs": [],
   "source": [
    "param_grid_rf = ParamGridBuilder() \\\n",
    "    .addGrid(rf_classifier.impurity, ['gini', 'entropy']) \\\n",
    "    .addGrid(rf_classifier.maxDepth, [2, 3, 5, 9]) \\\n",
    "    .addGrid(rf_classifier.numTrees, [100, 200, 300, 1000]) \\\n",
    "    .build()\n",
    "\n",
    "crossval_rf = CrossValidator(estimator=pipeline_rf,\n",
    "                          estimatorParamMaps=param_grid_rf,\n",
    "                          evaluator=MulticlassClassificationEvaluator(labelCol='DIABETES', metricName='accuracy'),\n",
    "                          numFolds=3) "
   ]
  },
  {
   "cell_type": "code",
   "execution_count": 201,
   "metadata": {},
   "outputs": [],
   "source": [
    "param_grid_gbt = ParamGridBuilder() \\\n",
    "    .addGrid(gbt_classifier.maxDepth, [2, 3, 5, 9]) \\\n",
    "    .addGrid(gbt_classifier.stepSize, [1, 0.1, 0.01, 0.001]) \\\n",
    "    .build()\n",
    "\n",
    "crossval_gbt = CrossValidator(estimator=pipeline_gbt,\n",
    "                          estimatorParamMaps=param_grid_gbt,\n",
    "                          evaluator=MulticlassClassificationEvaluator(labelCol='DIABETES', metricName='accuracy'),\n",
    "                          numFolds=3) "
   ]
  },
  {
   "cell_type": "markdown",
   "metadata": {},
   "source": [
    "#### Build Pipeline on Training Data & Predict Pipeline on Testing Data"
   ]
  },
  {
   "cell_type": "code",
   "execution_count": 202,
   "metadata": {},
   "outputs": [],
   "source": [
    "pipelines_grid = [crossval_lr, crossval_svc, crossval_dt, crossval_gbt]\n",
    "\n",
    "# Removed crossval_rf due to limitation of RAM"
   ]
  },
  {
   "cell_type": "code",
   "execution_count": 203,
   "metadata": {},
   "outputs": [],
   "source": [
    "pipe_grid_dict = {0: 'Logistic Regression', 1: 'Linear Support Vector Machine', 2: 'Decision Tree', \n",
    "                  3: 'Gradient Boost'}\n",
    "\n",
    "# Removed Random Forest due to limitation of RAM"
   ]
  },
  {
   "cell_type": "code",
   "execution_count": 204,
   "metadata": {},
   "outputs": [
    {
     "name": "stdout",
     "output_type": "stream",
     "text": [
      "Logistic Regression Test Accuracy: 0.706\n",
      "Linear Support Vector Machine Test Accuracy: 0.712\n",
      "Decision Tree Test Accuracy: 0.798\n",
      "Gradient Boost Test Accuracy: 0.786\n",
      "Classifier with best accuracy: Decision Tree\n"
     ]
    }
   ],
   "source": [
    "best_accuracy   = 0\n",
    "best_classifier = 0\n",
    "best_pipeline   = \"\"\n",
    "\n",
    "for i,pipe in enumerate(pipelines_grid):\n",
    "    predictions = pipe.fit(trainingData).transform(testingData)\n",
    "    multi_evaluator = MulticlassClassificationEvaluator(labelCol = 'DIABETES', metricName = 'accuracy')\n",
    "    print(\"{0:s} Test Accuracy: {1:.3f}\".format(pipe_grid_dict[i], multi_evaluator.evaluate(predictions)))\n",
    "    if multi_evaluator.evaluate(predictions) > best_accuracy:\n",
    "        best_accuracy = multi_evaluator.evaluate(predictions)\n",
    "        best_pipeline = pipe\n",
    "        best_classifier = i\n",
    "print('Classifier with best accuracy: {}'.format(pipe_grid_dict[best_classifier]))"
   ]
  },
  {
   "cell_type": "markdown",
   "metadata": {},
   "source": [
    "##### End of document."
   ]
  }
 ],
 "metadata": {
  "kernelspec": {
   "display_name": "Python 3",
   "language": "python",
   "name": "python3"
  },
  "language_info": {
   "codemirror_mode": {
    "name": "ipython",
    "version": 3
   },
   "file_extension": ".py",
   "mimetype": "text/x-python",
   "name": "python",
   "nbconvert_exporter": "python",
   "pygments_lexer": "ipython3",
   "version": "3.7.4"
  }
 },
 "nbformat": 4,
 "nbformat_minor": 2
}
